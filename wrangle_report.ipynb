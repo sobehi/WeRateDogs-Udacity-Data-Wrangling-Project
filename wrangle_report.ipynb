{
 "cells": [
  {
   "cell_type": "markdown",
   "metadata": {},
   "source": [
    "## Reporting: wragle_report\n",
    "* Create a **300-600 word written report** called \"wrangle_report.pdf\" or \"wrangle_report.html\" that briefly describes your wrangling efforts. This is to be framed as an internal document."
   ]
  },
  {
   "cell_type": "markdown",
   "metadata": {},
   "source": [
    "## Data Wrangling Report"
   ]
  },
  {
   "cell_type": "markdown",
   "metadata": {},
   "source": [
    "This report provides a summary of the wrangling steps and process used in the second project under the Udacity Nanodegree program. The purpose of the project was to wrangle and analyze data gathered from the \"WeRateDogs\" twitter account. The process involved three main steps which are: gathering, assessing and cleaning"
   ]
  },
  {
   "cell_type": "markdown",
   "metadata": {},
   "source": [
    "### Step 1: Gathering Data "
   ]
  },
  {
   "cell_type": "markdown",
   "metadata": {},
   "source": [
    "This is the very first step in data wrangling and invloves collecting or acquiring data from different sources. This data must be relevant to whatever analysis that is being done.Data can be gotten from numerous sources which are usually in different formats, the most important thing is that the data must be credible and you must be able to work with the data in its original format or convert it to a more suitable format required for the analysis.\n",
    "\n",
    "For the purpose of this project, data was gathered from the WeRateDog twitter account. The dataset was gathered in three different formats, A csv file, A tsv file and a json file. "
   ]
  },
  {
   "cell_type": "markdown",
   "metadata": {},
   "source": [
    "### Step 2: Assessing Data"
   ]
  },
  {
   "cell_type": "markdown",
   "metadata": {},
   "source": [
    "Data assessment is the second step of the data wrangling process. When you have gathered your data from various sources, the next step is to examine the data for possible issues that can affect your analysis. This assessment can be carried out either **visually** and or **programmatically**.\n",
    "\n",
    "Visual assessment involves scanning the data set for as many issues that can be spotted by merly looking through the data set. While you may be able to spot a few data issues, it is quite an ineffecient way of assessing data as there usually many more issues you may be unable to spot especially when working with larger data sets.\n",
    "\n",
    "Programmatic assessement is however a very efficient way in assessing data. It invloves the use of programmatic languages and code is assessing data issues.\n",
    "\n",
    "Data issues can be categorized into **Quality** and **Tidiness**.\n",
    "Quality issues has to do with the content of the data while Tidiness issues has to do with the structure of the data.Below are the quality and Tidiness issues identified during the assessment step of the proeject"
   ]
  },
  {
   "cell_type": "markdown",
   "metadata": {},
   "source": [
    "#### Quality Issues"
   ]
  },
  {
   "cell_type": "markdown",
   "metadata": {},
   "source": [
    "1. tweet_id is of integer data type\n",
    "\n",
    "2. The dataset contains some retweet data \n",
    "\n",
    "3. The name column for animals includes articles such as \"a\", \"an\" and \"the\" \n",
    "\n",
    "4. The timestamp has +0000 after the seconds\n",
    "\n",
    "5. rating_numerator and rating_denominator is int dtype instead of object\n",
    "\n",
    "6. Some of the tweets are replies and are not original tweets\n",
    "\n",
    "7. Timestamp is object data type instead of datetime\n",
    "\n",
    "8. in_reply_to_status_id is of float datatype"
   ]
  },
  {
   "cell_type": "markdown",
   "metadata": {},
   "source": [
    "#### Tidiness Issues"
   ]
  },
  {
   "cell_type": "markdown",
   "metadata": {},
   "source": [
    "1. The three data sets should be merged into one\n",
    "\n",
    "2. Columns doggo, floofer, pupper, and puppo should me merged into a single column"
   ]
  },
  {
   "cell_type": "markdown",
   "metadata": {},
   "source": [
    "### Step 3: Data Cleaning"
   ]
  },
  {
   "cell_type": "markdown",
   "metadata": {},
   "source": [
    "This is the final step in the data wrangling process. It involves addressing issues identified in the data assessment step. \n",
    "It is advisable to create copies of the orginial data set before commencing the cleaning process, so that the original data set is not altered and can always be referred to.\n",
    "\n",
    "The data cleaning step for this project followed a 3 step methodology:\n",
    "- Define: Stating how the issues will be cleaned\n",
    "- Code: Writing codes to solve the issue\n",
    "- Test: Checking if the code worked\n",
    "\n",
    "All quality and tidiness issues identified above were cleaned using pandas in python and other libraries and stored in a master csv file."
   ]
  }
 ],
 "metadata": {
  "kernelspec": {
   "display_name": "Python 3",
   "language": "python",
   "name": "python3"
  },
  "language_info": {
   "codemirror_mode": {
    "name": "ipython",
    "version": 3
   },
   "file_extension": ".py",
   "mimetype": "text/x-python",
   "name": "python",
   "nbconvert_exporter": "python",
   "pygments_lexer": "ipython3",
   "version": "3.6.3"
  }
 },
 "nbformat": 4,
 "nbformat_minor": 2
}
